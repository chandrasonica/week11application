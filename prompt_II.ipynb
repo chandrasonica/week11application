{
 "cells": [
  {
   "cell_type": "markdown",
   "metadata": {},
   "source": [
    "# What drives the price of a car?\n",
    "\n",
    "![](images/kurt.jpeg)"
   ]
  },
  {
   "cell_type": "markdown",
   "metadata": {},
   "source": [
    "**OVERVIEW**\n",
    "\n",
    "In this application, you will explore a dataset from kaggle. The original dataset contained information on 3 million used cars. The provided dataset contains information on 426K cars to ensure speed of processing.  Your goal is to understand what factors make a car more or less expensive.  As a result of your analysis, you should provide clear recommendations to your client -- a used car dealership -- as to what consumers value in a used car."
   ]
  },
  {
   "cell_type": "markdown",
   "metadata": {},
   "source": [
    "### CRISP-DM Framework\n",
    "\n",
    "<center>\n",
    "    <img src = images/crisp.png width = 50%/>\n",
    "</center>\n",
    "\n",
    "\n",
    "To frame the task, throughout our practical applications we will refer back to a standard process in industry for data projects called CRISP-DM.  This process provides a framework for working through a data problem.  Your first step in this application will be to read through a brief overview of CRISP-DM [here](https://mo-pcco.s3.us-east-1.amazonaws.com/BH-PCMLAI/module_11/readings_starter.zip).  After reading the overview, answer the questions below."
   ]
  },
  {
   "cell_type": "markdown",
   "metadata": {},
   "source": [
    "### Business Understanding\n",
    "\n",
    "From a business perspective, we are tasked with identifying key drivers for used car prices.  In the CRISP-DM overview, we are asked to convert this business framing to a data problem definition.  Using a few sentences, reframe the task as a data task with the appropriate technical vocabulary. "
   ]
  },
  {
   "cell_type": "markdown",
   "metadata": {},
   "source": [
    "We have given 426K data points for the price of used cars. Goal is to identify what features define the value of car. This will help dealer to predict price of used cars."
   ]
  },
  {
   "cell_type": "markdown",
   "metadata": {},
   "source": [
    "### Data Understanding\n",
    "\n",
    "After considering the business understanding, we want to get familiar with our data.  Write down some steps that you would take to get to know the dataset and identify any quality issues within.  Take time to get to know the dataset and explore what information it contains and how this could be used to inform your business understanding."
   ]
  },
  {
   "cell_type": "code",
   "execution_count": 13,
   "metadata": {},
   "outputs": [],
   "source": [
    "from sklearn.linear_model import LinearRegression, Lasso\n",
    "from sklearn.preprocessing import StandardScaler, PolynomialFeatures\n",
    "from sklearn.pipeline import Pipeline\n",
    "from sklearn.feature_selection import SequentialFeatureSelector, SelectFromModel\n",
    "from sklearn.metrics import mean_squared_error\n",
    "from sklearn.model_selection import train_test_split, GridSearchCV\n",
    "from sklearn import set_config\n",
    "set_config(display=\"diagram\")\n",
    "\n",
    "import matplotlib.pyplot as plt\n",
    "\n",
    "import pandas as pd\n",
    "import numpy as np\n",
    "import seaborn as sns\n",
    "import plotly.express as px\n",
    "from sklearn.preprocessing import StandardScaler\n",
    "from sklearn.pipeline import Pipeline\n",
    "from sklearn.linear_model import Ridge"
   ]
  },
  {
   "cell_type": "markdown",
   "metadata": {},
   "source": [
    "We need to load the data - "
   ]
  },
  {
   "cell_type": "code",
   "execution_count": 72,
   "metadata": {},
   "outputs": [],
   "source": [
    "cars = pd.read_csv('data/vehicles.csv')"
   ]
  },
  {
   "cell_type": "code",
   "execution_count": 15,
   "metadata": {},
   "outputs": [
    {
     "data": {
      "text/plain": [
       "id                int64\n",
       "region           object\n",
       "price             int64\n",
       "year            float64\n",
       "manufacturer     object\n",
       "model            object\n",
       "condition        object\n",
       "cylinders        object\n",
       "fuel             object\n",
       "odometer        float64\n",
       "title_status     object\n",
       "transmission     object\n",
       "VIN              object\n",
       "drive            object\n",
       "size             object\n",
       "type             object\n",
       "paint_color      object\n",
       "state            object\n",
       "dtype: object"
      ]
     },
     "execution_count": 15,
     "metadata": {},
     "output_type": "execute_result"
    }
   ],
   "source": [
    "cars.dtypes"
   ]
  },
  {
   "cell_type": "code",
   "execution_count": 64,
   "metadata": {},
   "outputs": [
    {
     "data": {
      "image/png": "[encoded data removed]",
      "text/plain": [
       "<Figure size 640x480 with 1 Axes>"
      ]
     },
     "metadata": {},
     "output_type": "display_data"
    }
   ],
   "source": [
    "sns.scatterplot(x = 'odometer', y = 'price', data = cars)\n",
    "plt.title(\"Odometer Reading vs. Price for a Random Sample\")\n",
    "plt.show()\n",
    "\n"
   ]
  },
  {
   "cell_type": "code",
   "execution_count": 17,
   "metadata": {},
   "outputs": [
    {
     "data": {
      "text/html": [
       "<div>\n",
       "<style scoped>\n",
       "    .dataframe tbody tr th:only-of-type {\n",
       "        vertical-align: middle;\n",
       "    }\n",
       "\n",
       "    .dataframe tbody tr th {\n",
       "        vertical-align: top;\n",
       "    }\n",
       "\n",
       "    .dataframe thead th {\n",
       "        text-align: right;\n",
       "    }\n",
       "</style>\n",
       "<table border=\"1\" class=\"dataframe\">\n",
       "  <thead>\n",
       "    <tr style=\"text-align: right;\">\n",
       "      <th></th>\n",
       "      <th>id</th>\n",
       "      <th>price</th>\n",
       "      <th>year</th>\n",
       "      <th>odometer</th>\n",
       "    </tr>\n",
       "  </thead>\n",
       "  <tbody>\n",
       "    <tr>\n",
       "      <th>count</th>\n",
       "      <td>4.268800e+05</td>\n",
       "      <td>4.268800e+05</td>\n",
       "      <td>425675.000000</td>\n",
       "      <td>4.224800e+05</td>\n",
       "    </tr>\n",
       "    <tr>\n",
       "      <th>mean</th>\n",
       "      <td>7.311487e+09</td>\n",
       "      <td>7.519903e+04</td>\n",
       "      <td>2011.235191</td>\n",
       "      <td>9.804333e+04</td>\n",
       "    </tr>\n",
       "    <tr>\n",
       "      <th>std</th>\n",
       "      <td>4.473170e+06</td>\n",
       "      <td>1.218228e+07</td>\n",
       "      <td>9.452120</td>\n",
       "      <td>2.138815e+05</td>\n",
       "    </tr>\n",
       "    <tr>\n",
       "      <th>min</th>\n",
       "      <td>7.207408e+09</td>\n",
       "      <td>0.000000e+00</td>\n",
       "      <td>1900.000000</td>\n",
       "      <td>0.000000e+00</td>\n",
       "    </tr>\n",
       "    <tr>\n",
       "      <th>25%</th>\n",
       "      <td>7.308143e+09</td>\n",
       "      <td>5.900000e+03</td>\n",
       "      <td>2008.000000</td>\n",
       "      <td>3.770400e+04</td>\n",
       "    </tr>\n",
       "    <tr>\n",
       "      <th>50%</th>\n",
       "      <td>7.312621e+09</td>\n",
       "      <td>1.395000e+04</td>\n",
       "      <td>2013.000000</td>\n",
       "      <td>8.554800e+04</td>\n",
       "    </tr>\n",
       "    <tr>\n",
       "      <th>75%</th>\n",
       "      <td>7.315254e+09</td>\n",
       "      <td>2.648575e+04</td>\n",
       "      <td>2017.000000</td>\n",
       "      <td>1.335425e+05</td>\n",
       "    </tr>\n",
       "    <tr>\n",
       "      <th>max</th>\n",
       "      <td>7.317101e+09</td>\n",
       "      <td>3.736929e+09</td>\n",
       "      <td>2022.000000</td>\n",
       "      <td>1.000000e+07</td>\n",
       "    </tr>\n",
       "  </tbody>\n",
       "</table>\n",
       "</div>"
      ],
      "text/plain": [
       "                 id         price           year      odometer\n",
       "count  4.268800e+05  4.268800e+05  425675.000000  4.224800e+05\n",
       "mean   7.311487e+09  7.519903e+04    2011.235191  9.804333e+04\n",
       "std    4.473170e+06  1.218228e+07       9.452120  2.138815e+05\n",
       "min    7.207408e+09  0.000000e+00    1900.000000  0.000000e+00\n",
       "25%    7.308143e+09  5.900000e+03    2008.000000  3.770400e+04\n",
       "50%    7.312621e+09  1.395000e+04    2013.000000  8.554800e+04\n",
       "75%    7.315254e+09  2.648575e+04    2017.000000  1.335425e+05\n",
       "max    7.317101e+09  3.736929e+09    2022.000000  1.000000e+07"
      ]
     },
     "execution_count": 17,
     "metadata": {},
     "output_type": "execute_result"
    }
   ],
   "source": [
    "cars.describe()"
   ]
  },
  {
   "cell_type": "code",
   "execution_count": 18,
   "metadata": {},
   "outputs": [
    {
     "data": {
      "text/plain": [
       "array([nan, 'full-size', 'mid-size', 'compact', 'sub-compact'],\n",
       "      dtype=object)"
      ]
     },
     "execution_count": 18,
     "metadata": {},
     "output_type": "execute_result"
    }
   ],
   "source": [
    "cars['size'].unique()"
   ]
  },
  {
   "cell_type": "code",
   "execution_count": 19,
   "metadata": {},
   "outputs": [
    {
     "data": {
      "text/html": [
       "<div>\n",
       "<style scoped>\n",
       "    .dataframe tbody tr th:only-of-type {\n",
       "        vertical-align: middle;\n",
       "    }\n",
       "\n",
       "    .dataframe tbody tr th {\n",
       "        vertical-align: top;\n",
       "    }\n",
       "\n",
       "    .dataframe thead th {\n",
       "        text-align: right;\n",
       "    }\n",
       "</style>\n",
       "<table border=\"1\" class=\"dataframe\">\n",
       "  <thead>\n",
       "    <tr style=\"text-align: right;\">\n",
       "      <th></th>\n",
       "      <th>id</th>\n",
       "      <th>region</th>\n",
       "      <th>price</th>\n",
       "      <th>year</th>\n",
       "      <th>manufacturer</th>\n",
       "      <th>model</th>\n",
       "      <th>condition</th>\n",
       "      <th>cylinders</th>\n",
       "      <th>fuel</th>\n",
       "      <th>odometer</th>\n",
       "      <th>title_status</th>\n",
       "      <th>transmission</th>\n",
       "      <th>VIN</th>\n",
       "      <th>drive</th>\n",
       "      <th>size</th>\n",
       "      <th>type</th>\n",
       "      <th>paint_color</th>\n",
       "      <th>state</th>\n",
       "    </tr>\n",
       "  </thead>\n",
       "  <tbody>\n",
       "    <tr>\n",
       "      <th>0</th>\n",
       "      <td>7222695916</td>\n",
       "      <td>prescott</td>\n",
       "      <td>6000</td>\n",
       "      <td>NaN</td>\n",
       "      <td>NaN</td>\n",
       "      <td>NaN</td>\n",
       "      <td>NaN</td>\n",
       "      <td>NaN</td>\n",
       "      <td>NaN</td>\n",
       "      <td>NaN</td>\n",
       "      <td>NaN</td>\n",
       "      <td>NaN</td>\n",
       "      <td>NaN</td>\n",
       "      <td>NaN</td>\n",
       "      <td>NaN</td>\n",
       "      <td>NaN</td>\n",
       "      <td>NaN</td>\n",
       "      <td>az</td>\n",
       "    </tr>\n",
       "    <tr>\n",
       "      <th>1</th>\n",
       "      <td>7218891961</td>\n",
       "      <td>fayetteville</td>\n",
       "      <td>11900</td>\n",
       "      <td>NaN</td>\n",
       "      <td>NaN</td>\n",
       "      <td>NaN</td>\n",
       "      <td>NaN</td>\n",
       "      <td>NaN</td>\n",
       "      <td>NaN</td>\n",
       "      <td>NaN</td>\n",
       "      <td>NaN</td>\n",
       "      <td>NaN</td>\n",
       "      <td>NaN</td>\n",
       "      <td>NaN</td>\n",
       "      <td>NaN</td>\n",
       "      <td>NaN</td>\n",
       "      <td>NaN</td>\n",
       "      <td>ar</td>\n",
       "    </tr>\n",
       "    <tr>\n",
       "      <th>2</th>\n",
       "      <td>7221797935</td>\n",
       "      <td>florida keys</td>\n",
       "      <td>21000</td>\n",
       "      <td>NaN</td>\n",
       "      <td>NaN</td>\n",
       "      <td>NaN</td>\n",
       "      <td>NaN</td>\n",
       "      <td>NaN</td>\n",
       "      <td>NaN</td>\n",
       "      <td>NaN</td>\n",
       "      <td>NaN</td>\n",
       "      <td>NaN</td>\n",
       "      <td>NaN</td>\n",
       "      <td>NaN</td>\n",
       "      <td>NaN</td>\n",
       "      <td>NaN</td>\n",
       "      <td>NaN</td>\n",
       "      <td>fl</td>\n",
       "    </tr>\n",
       "    <tr>\n",
       "      <th>3</th>\n",
       "      <td>7222270760</td>\n",
       "      <td>worcester / central MA</td>\n",
       "      <td>1500</td>\n",
       "      <td>NaN</td>\n",
       "      <td>NaN</td>\n",
       "      <td>NaN</td>\n",
       "      <td>NaN</td>\n",
       "      <td>NaN</td>\n",
       "      <td>NaN</td>\n",
       "      <td>NaN</td>\n",
       "      <td>NaN</td>\n",
       "      <td>NaN</td>\n",
       "      <td>NaN</td>\n",
       "      <td>NaN</td>\n",
       "      <td>NaN</td>\n",
       "      <td>NaN</td>\n",
       "      <td>NaN</td>\n",
       "      <td>ma</td>\n",
       "    </tr>\n",
       "    <tr>\n",
       "      <th>4</th>\n",
       "      <td>7210384030</td>\n",
       "      <td>greensboro</td>\n",
       "      <td>4900</td>\n",
       "      <td>NaN</td>\n",
       "      <td>NaN</td>\n",
       "      <td>NaN</td>\n",
       "      <td>NaN</td>\n",
       "      <td>NaN</td>\n",
       "      <td>NaN</td>\n",
       "      <td>NaN</td>\n",
       "      <td>NaN</td>\n",
       "      <td>NaN</td>\n",
       "      <td>NaN</td>\n",
       "      <td>NaN</td>\n",
       "      <td>NaN</td>\n",
       "      <td>NaN</td>\n",
       "      <td>NaN</td>\n",
       "      <td>nc</td>\n",
       "    </tr>\n",
       "  </tbody>\n",
       "</table>\n",
       "</div>"
      ],
      "text/plain": [
       "           id                  region  price  year manufacturer model  \\\n",
       "0  7222695916                prescott   6000   NaN          NaN   NaN   \n",
       "1  7218891961            fayetteville  11900   NaN          NaN   NaN   \n",
       "2  7221797935            florida keys  21000   NaN          NaN   NaN   \n",
       "3  7222270760  worcester / central MA   1500   NaN          NaN   NaN   \n",
       "4  7210384030              greensboro   4900   NaN          NaN   NaN   \n",
       "\n",
       "  condition cylinders fuel  odometer title_status transmission  VIN drive  \\\n",
       "0       NaN       NaN  NaN       NaN          NaN          NaN  NaN   NaN   \n",
       "1       NaN       NaN  NaN       NaN          NaN          NaN  NaN   NaN   \n",
       "2       NaN       NaN  NaN       NaN          NaN          NaN  NaN   NaN   \n",
       "3       NaN       NaN  NaN       NaN          NaN          NaN  NaN   NaN   \n",
       "4       NaN       NaN  NaN       NaN          NaN          NaN  NaN   NaN   \n",
       "\n",
       "  size type paint_color state  \n",
       "0  NaN  NaN         NaN    az  \n",
       "1  NaN  NaN         NaN    ar  \n",
       "2  NaN  NaN         NaN    fl  \n",
       "3  NaN  NaN         NaN    ma  \n",
       "4  NaN  NaN         NaN    nc  "
      ]
     },
     "execution_count": 19,
     "metadata": {},
     "output_type": "execute_result"
    }
   ],
   "source": [
    "cars.head()"
   ]
  },
  {
   "cell_type": "markdown",
   "metadata": {},
   "source": [
    "We need to analyze and find out, columns containing null values."
   ]
  },
  {
   "cell_type": "code",
   "execution_count": 20,
   "metadata": {},
   "outputs": [
    {
     "data": {
      "text/plain": [
       "426880"
      ]
     },
     "execution_count": 20,
     "metadata": {},
     "output_type": "execute_result"
    }
   ],
   "source": [
    "len(cars)"
   ]
  },
  {
   "cell_type": "code",
   "execution_count": 21,
   "metadata": {},
   "outputs": [
    {
     "data": {
      "text/plain": [
       "id              426880\n",
       "region          426880\n",
       "price           426880\n",
       "year            425675\n",
       "manufacturer    409234\n",
       "model           421603\n",
       "condition       252776\n",
       "cylinders       249202\n",
       "fuel            423867\n",
       "odometer        422480\n",
       "title_status    418638\n",
       "transmission    424324\n",
       "VIN             265838\n",
       "drive           296313\n",
       "size            120519\n",
       "type            334022\n",
       "paint_color     296677\n",
       "state           426880\n",
       "dtype: int64"
      ]
     },
     "execution_count": 21,
     "metadata": {},
     "output_type": "execute_result"
    }
   ],
   "source": [
    "cars.count()"
   ]
  },
  {
   "cell_type": "code",
   "execution_count": 22,
   "metadata": {},
   "outputs": [
    {
     "data": {
      "text/plain": [
       "id                   0\n",
       "region               0\n",
       "price                0\n",
       "year              1205\n",
       "manufacturer     17646\n",
       "model             5277\n",
       "condition       174104\n",
       "cylinders       177678\n",
       "fuel              3013\n",
       "odometer          4400\n",
       "title_status      8242\n",
       "transmission      2556\n",
       "VIN             161042\n",
       "drive           130567\n",
       "size            306361\n",
       "type             92858\n",
       "paint_color     130203\n",
       "state                0\n",
       "dtype: int64"
      ]
     },
     "execution_count": 22,
     "metadata": {},
     "output_type": "execute_result"
    }
   ],
   "source": [
    "cars.isna().sum()"
   ]
  },
  {
   "cell_type": "code",
   "execution_count": 23,
   "metadata": {},
   "outputs": [
    {
     "data": {
      "text/plain": [
       "id              426880\n",
       "region             404\n",
       "price            15655\n",
       "year               114\n",
       "manufacturer        42\n",
       "model            29649\n",
       "condition            6\n",
       "cylinders            8\n",
       "fuel                 5\n",
       "odometer        104870\n",
       "title_status         6\n",
       "transmission         3\n",
       "VIN             118246\n",
       "drive                3\n",
       "size                 4\n",
       "type                13\n",
       "paint_color         12\n",
       "state               51\n",
       "dtype: int64"
      ]
     },
     "execution_count": 23,
     "metadata": {},
     "output_type": "execute_result"
    }
   ],
   "source": [
    "cars.nunique()"
   ]
  },
  {
   "cell_type": "code",
   "execution_count": 24,
   "metadata": {},
   "outputs": [
    {
     "data": {
      "text/html": [
       "<div>\n",
       "<style scoped>\n",
       "    .dataframe tbody tr th:only-of-type {\n",
       "        vertical-align: middle;\n",
       "    }\n",
       "\n",
       "    .dataframe tbody tr th {\n",
       "        vertical-align: top;\n",
       "    }\n",
       "\n",
       "    .dataframe thead th {\n",
       "        text-align: right;\n",
       "    }\n",
       "</style>\n",
       "<table border=\"1\" class=\"dataframe\">\n",
       "  <thead>\n",
       "    <tr style=\"text-align: right;\">\n",
       "      <th></th>\n",
       "      <th>id</th>\n",
       "      <th>price</th>\n",
       "      <th>year</th>\n",
       "      <th>odometer</th>\n",
       "    </tr>\n",
       "  </thead>\n",
       "  <tbody>\n",
       "    <tr>\n",
       "      <th>id</th>\n",
       "      <td>1.000000</td>\n",
       "      <td>-0.002779</td>\n",
       "      <td>-0.059040</td>\n",
       "      <td>0.010721</td>\n",
       "    </tr>\n",
       "    <tr>\n",
       "      <th>price</th>\n",
       "      <td>-0.002779</td>\n",
       "      <td>1.000000</td>\n",
       "      <td>-0.004925</td>\n",
       "      <td>0.010032</td>\n",
       "    </tr>\n",
       "    <tr>\n",
       "      <th>year</th>\n",
       "      <td>-0.059040</td>\n",
       "      <td>-0.004925</td>\n",
       "      <td>1.000000</td>\n",
       "      <td>-0.157215</td>\n",
       "    </tr>\n",
       "    <tr>\n",
       "      <th>odometer</th>\n",
       "      <td>0.010721</td>\n",
       "      <td>0.010032</td>\n",
       "      <td>-0.157215</td>\n",
       "      <td>1.000000</td>\n",
       "    </tr>\n",
       "  </tbody>\n",
       "</table>\n",
       "</div>"
      ],
      "text/plain": [
       "                id     price      year  odometer\n",
       "id        1.000000 -0.002779 -0.059040  0.010721\n",
       "price    -0.002779  1.000000 -0.004925  0.010032\n",
       "year     -0.059040 -0.004925  1.000000 -0.157215\n",
       "odometer  0.010721  0.010032 -0.157215  1.000000"
      ]
     },
     "execution_count": 24,
     "metadata": {},
     "output_type": "execute_result"
    }
   ],
   "source": [
    "cars.corr()"
   ]
  },
  {
   "cell_type": "markdown",
   "metadata": {},
   "source": [
    "### Data Preparation\n",
    "\n",
    "After our initial exploration and fine tuning of the business understanding, it is time to construct our final dataset prior to modeling.  Here, we want to make sure to handle any integrity issues and cleaning, the engineering of new features, any transformations that we believe should happen (scaling, logarithms, normalization, etc.), and general preparation for modeling with `sklearn`. "
   ]
  },
  {
   "cell_type": "markdown",
   "metadata": {},
   "source": [
    "Dropping columns with most of the missing values"
   ]
  },
  {
   "cell_type": "code",
   "execution_count": 25,
   "metadata": {},
   "outputs": [],
   "source": [
    "cars.drop(columns = ['id', 'VIN','size'], inplace = True )\n"
   ]
  },
  {
   "cell_type": "code",
   "execution_count": 26,
   "metadata": {},
   "outputs": [
    {
     "data": {
      "text/plain": [
       "region               0\n",
       "price                0\n",
       "year              1205\n",
       "manufacturer     17646\n",
       "model             5277\n",
       "condition       174104\n",
       "cylinders       177678\n",
       "fuel              3013\n",
       "odometer          4400\n",
       "title_status      8242\n",
       "transmission      2556\n",
       "drive           130567\n",
       "type             92858\n",
       "paint_color     130203\n",
       "state                0\n",
       "dtype: int64"
      ]
     },
     "execution_count": 26,
     "metadata": {},
     "output_type": "execute_result"
    }
   ],
   "source": [
    "cars.isna().sum()"
   ]
  },
  {
   "cell_type": "code",
   "execution_count": 27,
   "metadata": {},
   "outputs": [],
   "source": [
    "cars = cars.dropna(subset=['manufacturer'])"
   ]
  },
  {
   "cell_type": "code",
   "execution_count": 28,
   "metadata": {},
   "outputs": [
    {
     "data": {
      "text/plain": [
       "region               0\n",
       "price                0\n",
       "year                 6\n",
       "manufacturer         0\n",
       "model             5208\n",
       "condition       167283\n",
       "cylinders       169556\n",
       "fuel              2553\n",
       "odometer          4151\n",
       "title_status      7749\n",
       "transmission      2287\n",
       "drive           123162\n",
       "type             86372\n",
       "paint_color     124152\n",
       "state                0\n",
       "dtype: int64"
      ]
     },
     "execution_count": 28,
     "metadata": {},
     "output_type": "execute_result"
    }
   ],
   "source": [
    "cars.isna().sum()"
   ]
  },
  {
   "cell_type": "markdown",
   "metadata": {},
   "source": [
    "lets check condition column"
   ]
  },
  {
   "cell_type": "code",
   "execution_count": 29,
   "metadata": {},
   "outputs": [
    {
     "data": {
      "text/plain": [
       "array(['good', 'excellent', 'fair', nan, 'like new', 'new', 'salvage'],\n",
       "      dtype=object)"
      ]
     },
     "execution_count": 29,
     "metadata": {},
     "output_type": "execute_result"
    }
   ],
   "source": [
    "cars.condition.unique()"
   ]
  },
  {
   "cell_type": "markdown",
   "metadata": {},
   "source": [
    "we can assume that missing values in condition is fair by default"
   ]
  },
  {
   "cell_type": "code",
   "execution_count": 30,
   "metadata": {},
   "outputs": [],
   "source": [
    "cars['condition'].fillna('fair', inplace = True)"
   ]
  },
  {
   "cell_type": "code",
   "execution_count": 31,
   "metadata": {},
   "outputs": [
    {
     "data": {
      "text/plain": [
       "region               0\n",
       "price                0\n",
       "year                 6\n",
       "manufacturer         0\n",
       "model             5208\n",
       "condition            0\n",
       "cylinders       169556\n",
       "fuel              2553\n",
       "odometer          4151\n",
       "title_status      7749\n",
       "transmission      2287\n",
       "drive           123162\n",
       "type             86372\n",
       "paint_color     124152\n",
       "state                0\n",
       "dtype: int64"
      ]
     },
     "execution_count": 31,
     "metadata": {},
     "output_type": "execute_result"
    }
   ],
   "source": [
    "cars.isna().sum()"
   ]
  },
  {
   "cell_type": "markdown",
   "metadata": {},
   "source": [
    "drop missing odometer value rows"
   ]
  },
  {
   "cell_type": "code",
   "execution_count": 32,
   "metadata": {},
   "outputs": [],
   "source": [
    "cars = cars.dropna(subset=['odometer'])"
   ]
  },
  {
   "cell_type": "code",
   "execution_count": 33,
   "metadata": {},
   "outputs": [
    {
     "data": {
      "text/plain": [
       "region               0\n",
       "price                0\n",
       "year                 6\n",
       "manufacturer         0\n",
       "model             5194\n",
       "condition            0\n",
       "cylinders       166890\n",
       "fuel              2009\n",
       "odometer             0\n",
       "title_status      7204\n",
       "transmission      1624\n",
       "drive           121804\n",
       "type             85533\n",
       "paint_color     122242\n",
       "state                0\n",
       "dtype: int64"
      ]
     },
     "execution_count": 33,
     "metadata": {},
     "output_type": "execute_result"
    }
   ],
   "source": [
    "cars.isna().sum()"
   ]
  },
  {
   "cell_type": "markdown",
   "metadata": {},
   "source": [
    "drop rows with nan model"
   ]
  },
  {
   "cell_type": "code",
   "execution_count": 34,
   "metadata": {},
   "outputs": [],
   "source": [
    "cars = cars.dropna(subset=['model'])"
   ]
  },
  {
   "cell_type": "markdown",
   "metadata": {},
   "source": [
    "dont see much value in model column so drooping it"
   ]
  },
  {
   "cell_type": "code",
   "execution_count": 73,
   "metadata": {},
   "outputs": [],
   "source": [
    "cars.drop(columns = ['id', 'VIN','size'], inplace = True )\n"
   ]
  },
  {
   "cell_type": "markdown",
   "metadata": {},
   "source": [
    "lets look cylinders column now"
   ]
  },
  {
   "cell_type": "code",
   "execution_count": 36,
   "metadata": {},
   "outputs": [
    {
     "data": {
      "text/plain": [
       "904"
      ]
     },
     "execution_count": 36,
     "metadata": {},
     "output_type": "execute_result"
    }
   ],
   "source": [
    "cars.cylinders.value_counts()['other']"
   ]
  },
  {
   "cell_type": "code",
   "execution_count": 37,
   "metadata": {},
   "outputs": [
    {
     "data": {
      "text/plain": [
       "array(['clean', 'rebuilt', 'lien', nan, 'salvage', 'missing',\n",
       "       'parts only'], dtype=object)"
      ]
     },
     "execution_count": 37,
     "metadata": {},
     "output_type": "execute_result"
    }
   ],
   "source": [
    "cars['title_status'].unique()\n"
   ]
  },
  {
   "cell_type": "markdown",
   "metadata": {},
   "source": [
    "Lets defsult 'title_status',  as missing"
   ]
  },
  {
   "cell_type": "code",
   "execution_count": 38,
   "metadata": {},
   "outputs": [],
   "source": [
    "cars['title_status'].fillna('missing', inplace = True)"
   ]
  },
  {
   "cell_type": "code",
   "execution_count": 39,
   "metadata": {},
   "outputs": [
    {
     "data": {
      "text/plain": [
       "region               0\n",
       "price                0\n",
       "year                 6\n",
       "manufacturer         0\n",
       "model                0\n",
       "condition            0\n",
       "cylinders       164298\n",
       "fuel              2009\n",
       "odometer             0\n",
       "title_status         0\n",
       "transmission      1608\n",
       "drive           119566\n",
       "type             83236\n",
       "paint_color     119318\n",
       "state                0\n",
       "dtype: int64"
      ]
     },
     "execution_count": 39,
     "metadata": {},
     "output_type": "execute_result"
    }
   ],
   "source": [
    "cars.isna().sum()"
   ]
  },
  {
   "cell_type": "code",
   "execution_count": 40,
   "metadata": {},
   "outputs": [
    {
     "data": {
      "text/plain": [
       "array(['8 cylinders', '6 cylinders', nan, '4 cylinders', '5 cylinders',\n",
       "       '10 cylinders', '3 cylinders', 'other', '12 cylinders'],\n",
       "      dtype=object)"
      ]
     },
     "execution_count": 40,
     "metadata": {},
     "output_type": "execute_result"
    }
   ],
   "source": [
    "cars.cylinders.unique()"
   ]
  },
  {
   "cell_type": "markdown",
   "metadata": {},
   "source": [
    "i see 50% of data is missing for cylinders colums, so dropping that column"
   ]
  },
  {
   "cell_type": "markdown",
   "metadata": {},
   "source": [
    "drive and "
   ]
  },
  {
   "cell_type": "code",
   "execution_count": 41,
   "metadata": {},
   "outputs": [],
   "source": [
    "cars.drop(columns = ['cylinders'], inplace = True )\n"
   ]
  },
  {
   "cell_type": "code",
   "execution_count": 42,
   "metadata": {},
   "outputs": [],
   "source": [
    "cars = cars.dropna(subset=['fuel'])"
   ]
  },
  {
   "cell_type": "code",
   "execution_count": 43,
   "metadata": {},
   "outputs": [],
   "source": [
    "cars = cars.dropna(subset=['year'])"
   ]
  },
  {
   "cell_type": "code",
   "execution_count": 44,
   "metadata": {},
   "outputs": [
    {
     "data": {
      "text/plain": [
       "region               0\n",
       "price                0\n",
       "year                 0\n",
       "manufacturer         0\n",
       "model                0\n",
       "condition            0\n",
       "fuel                 0\n",
       "odometer             0\n",
       "title_status         0\n",
       "transmission      1540\n",
       "drive           119155\n",
       "type             82909\n",
       "paint_color     118766\n",
       "state                0\n",
       "dtype: int64"
      ]
     },
     "execution_count": 44,
     "metadata": {},
     "output_type": "execute_result"
    }
   ],
   "source": [
    "cars.isna().sum()"
   ]
  },
  {
   "cell_type": "code",
   "execution_count": 45,
   "metadata": {},
   "outputs": [
    {
     "data": {
      "text/plain": [
       "array([nan, 'rwd', '4wd', 'fwd'], dtype=object)"
      ]
     },
     "execution_count": 45,
     "metadata": {},
     "output_type": "execute_result"
    }
   ],
   "source": [
    "cars.drive.unique()"
   ]
  },
  {
   "cell_type": "markdown",
   "metadata": {},
   "source": [
    "dropping drive column as i dont see much value, only 3 tyypes avaliable "
   ]
  },
  {
   "cell_type": "code",
   "execution_count": 46,
   "metadata": {},
   "outputs": [],
   "source": [
    "cars.drop(columns = ['drive'], inplace = True )\n"
   ]
  },
  {
   "cell_type": "code",
   "execution_count": 47,
   "metadata": {},
   "outputs": [],
   "source": [
    "cars.drop(columns = ['paint_color'], inplace = True )\n"
   ]
  },
  {
   "cell_type": "code",
   "execution_count": 48,
   "metadata": {},
   "outputs": [
    {
     "data": {
      "text/plain": [
       "region              0\n",
       "price               0\n",
       "year                0\n",
       "manufacturer        0\n",
       "model               0\n",
       "condition           0\n",
       "fuel                0\n",
       "odometer            0\n",
       "title_status        0\n",
       "transmission     1540\n",
       "type            82909\n",
       "state               0\n",
       "dtype: int64"
      ]
     },
     "execution_count": 48,
     "metadata": {},
     "output_type": "execute_result"
    }
   ],
   "source": [
    "cars.isna().sum()"
   ]
  },
  {
   "cell_type": "code",
   "execution_count": 49,
   "metadata": {},
   "outputs": [
    {
     "data": {
      "text/plain": [
       "array(['other', 'automatic', 'manual', nan], dtype=object)"
      ]
     },
     "execution_count": 49,
     "metadata": {},
     "output_type": "execute_result"
    }
   ],
   "source": [
    "cars.transmission.unique()"
   ]
  },
  {
   "cell_type": "code",
   "execution_count": 50,
   "metadata": {},
   "outputs": [],
   "source": [
    "cars = cars.dropna(subset=['transmission'])"
   ]
  },
  {
   "cell_type": "code",
   "execution_count": 51,
   "metadata": {},
   "outputs": [
    {
     "data": {
      "text/plain": [
       "region              0\n",
       "price               0\n",
       "year                0\n",
       "manufacturer        0\n",
       "model               0\n",
       "condition           0\n",
       "fuel                0\n",
       "odometer            0\n",
       "title_status        0\n",
       "transmission        0\n",
       "type            82907\n",
       "state               0\n",
       "dtype: int64"
      ]
     },
     "execution_count": 51,
     "metadata": {},
     "output_type": "execute_result"
    }
   ],
   "source": [
    "cars.isna().sum()"
   ]
  },
  {
   "cell_type": "code",
   "execution_count": 52,
   "metadata": {},
   "outputs": [
    {
     "data": {
      "text/plain": [
       "array(['pickup', 'truck', 'other', nan, 'coupe', 'SUV', 'hatchback',\n",
       "       'mini-van', 'sedan', 'offroad', 'van', 'convertible', 'wagon',\n",
       "       'bus'], dtype=object)"
      ]
     },
     "execution_count": 52,
     "metadata": {},
     "output_type": "execute_result"
    }
   ],
   "source": [
    "cars['type'].unique()"
   ]
  },
  {
   "cell_type": "code",
   "execution_count": 53,
   "metadata": {},
   "outputs": [],
   "source": [
    "cars['type'].fillna('other', inplace = True)"
   ]
  },
  {
   "cell_type": "code",
   "execution_count": 54,
   "metadata": {},
   "outputs": [
    {
     "data": {
      "text/plain": [
       "region          0\n",
       "price           0\n",
       "year            0\n",
       "manufacturer    0\n",
       "model           0\n",
       "condition       0\n",
       "fuel            0\n",
       "odometer        0\n",
       "title_status    0\n",
       "transmission    0\n",
       "type            0\n",
       "state           0\n",
       "dtype: int64"
      ]
     },
     "execution_count": 54,
     "metadata": {},
     "output_type": "execute_result"
    }
   ],
   "source": [
    "cars.isna().sum()"
   ]
  },
  {
   "cell_type": "markdown",
   "metadata": {},
   "source": [
    "now we have cleared all nan values, lets see how we can convert the columns to numaric"
   ]
  },
  {
   "cell_type": "code",
   "execution_count": 55,
   "metadata": {},
   "outputs": [
    {
     "data": {
      "text/plain": [
       "region             404\n",
       "price            15141\n",
       "year               107\n",
       "manufacturer        41\n",
       "model            22873\n",
       "condition            6\n",
       "fuel                 5\n",
       "odometer        101072\n",
       "title_status         6\n",
       "transmission         3\n",
       "type                13\n",
       "state               51\n",
       "dtype: int64"
      ]
     },
     "execution_count": 55,
     "metadata": {},
     "output_type": "execute_result"
    }
   ],
   "source": [
    "cars.nunique()"
   ]
  },
  {
   "cell_type": "code",
   "execution_count": 56,
   "metadata": {},
   "outputs": [
    {
     "data": {
      "text/plain": [
       "region           object\n",
       "price             int64\n",
       "year            float64\n",
       "manufacturer     object\n",
       "model            object\n",
       "condition        object\n",
       "fuel             object\n",
       "odometer        float64\n",
       "title_status     object\n",
       "transmission     object\n",
       "type             object\n",
       "state            object\n",
       "dtype: object"
      ]
     },
     "execution_count": 56,
     "metadata": {},
     "output_type": "execute_result"
    }
   ],
   "source": [
    "cars.dtypes"
   ]
  },
  {
   "cell_type": "markdown",
   "metadata": {},
   "source": [
    "convert to multi column if there are less unique values"
   ]
  },
  {
   "cell_type": "code",
   "execution_count": 57,
   "metadata": {},
   "outputs": [
    {
     "name": "stdout",
     "output_type": "stream",
     "text": [
      "<class 'pandas.core.frame.DataFrame'>\n",
      "RangeIndex: 396334 entries, 0 to 396333\n",
      "Data columns (total 29 columns):\n",
      " #   Column                   Non-Null Count   Dtype  \n",
      "---  ------                   --------------   -----  \n",
      " 0   index                    396334 non-null  int64  \n",
      " 1   region                   396334 non-null  object \n",
      " 2   price                    396334 non-null  int64  \n",
      " 3   year                     396334 non-null  float64\n",
      " 4   manufacturer             396334 non-null  object \n",
      " 5   model                    396334 non-null  object \n",
      " 6   odometer                 396334 non-null  float64\n",
      " 7   type                     396334 non-null  object \n",
      " 8   state                    396334 non-null  object \n",
      " 9   fuel_diesel              396334 non-null  uint8  \n",
      " 10  fuel_electric            396334 non-null  uint8  \n",
      " 11  fuel_gas                 396334 non-null  uint8  \n",
      " 12  fuel_hybrid              396334 non-null  uint8  \n",
      " 13  fuel_other               396334 non-null  uint8  \n",
      " 14  condition_excellent      396334 non-null  uint8  \n",
      " 15  condition_fair           396334 non-null  uint8  \n",
      " 16  condition_good           396334 non-null  uint8  \n",
      " 17  condition_like new       396334 non-null  uint8  \n",
      " 18  condition_new            396334 non-null  uint8  \n",
      " 19  condition_salvage        396334 non-null  uint8  \n",
      " 20  transmission_automatic   396334 non-null  uint8  \n",
      " 21  transmission_manual      396334 non-null  uint8  \n",
      " 22  transmission_other       396334 non-null  uint8  \n",
      " 23  title_status_clean       396334 non-null  uint8  \n",
      " 24  title_status_lien        396334 non-null  uint8  \n",
      " 25  title_status_missing     396334 non-null  uint8  \n",
      " 26  title_status_parts only  396334 non-null  uint8  \n",
      " 27  title_status_rebuilt     396334 non-null  uint8  \n",
      " 28  title_status_salvage     396334 non-null  uint8  \n",
      "dtypes: float64(2), int64(2), object(5), uint8(20)\n",
      "memory usage: 34.8+ MB\n"
     ]
    }
   ],
   "source": [
    "cars2 = pd.get_dummies(cars,columns = ['fuel', 'condition', 'transmission', 'title_status'])\n",
    "cars2 = cars2.reset_index()\n",
    "cars2.info(verbose = True)\n",
    "cars2.drop(columns = 'index', inplace= True)"
   ]
  },
  {
   "cell_type": "markdown",
   "metadata": {},
   "source": [
    "for rest create LabelEncoder"
   ]
  },
  {
   "cell_type": "code",
   "execution_count": 58,
   "metadata": {},
   "outputs": [
    {
     "name": "stdout",
     "output_type": "stream",
     "text": [
      "<class 'pandas.core.frame.DataFrame'>\n",
      "RangeIndex: 396334 entries, 0 to 396333\n",
      "Data columns (total 28 columns):\n",
      " #   Column                   Non-Null Count   Dtype  \n",
      "---  ------                   --------------   -----  \n",
      " 0   region                   396334 non-null  int64  \n",
      " 1   price                    396334 non-null  int64  \n",
      " 2   year                     396334 non-null  float64\n",
      " 3   manufacturer             396334 non-null  int64  \n",
      " 4   model                    396334 non-null  int64  \n",
      " 5   odometer                 396334 non-null  float64\n",
      " 6   type                     396334 non-null  int64  \n",
      " 7   state                    396334 non-null  int64  \n",
      " 8   fuel_diesel              396334 non-null  uint8  \n",
      " 9   fuel_electric            396334 non-null  uint8  \n",
      " 10  fuel_gas                 396334 non-null  uint8  \n",
      " 11  fuel_hybrid              396334 non-null  uint8  \n",
      " 12  fuel_other               396334 non-null  uint8  \n",
      " 13  condition_excellent      396334 non-null  uint8  \n",
      " 14  condition_fair           396334 non-null  uint8  \n",
      " 15  condition_good           396334 non-null  uint8  \n",
      " 16  condition_like new       396334 non-null  uint8  \n",
      " 17  condition_new            396334 non-null  uint8  \n",
      " 18  condition_salvage        396334 non-null  uint8  \n",
      " 19  transmission_automatic   396334 non-null  uint8  \n",
      " 20  transmission_manual      396334 non-null  uint8  \n",
      " 21  transmission_other       396334 non-null  uint8  \n",
      " 22  title_status_clean       396334 non-null  uint8  \n",
      " 23  title_status_lien        396334 non-null  uint8  \n",
      " 24  title_status_missing     396334 non-null  uint8  \n",
      " 25  title_status_parts only  396334 non-null  uint8  \n",
      " 26  title_status_rebuilt     396334 non-null  uint8  \n",
      " 27  title_status_salvage     396334 non-null  uint8  \n",
      "dtypes: float64(2), int64(6), uint8(20)\n",
      "memory usage: 31.7 MB\n"
     ]
    }
   ],
   "source": [
    "from sklearn.preprocessing import LabelEncoder\n",
    "labeled_cols = ['region', 'manufacturer', 'model', 'type', 'state']\n",
    "cars2[labeled_cols] = cars2[labeled_cols].apply(LabelEncoder().fit_transform)\n",
    "cars2.info()\n"
   ]
  },
  {
   "cell_type": "markdown",
   "metadata": {},
   "source": [
    "### Modeling\n",
    "\n",
    "With your (almost?) final dataset in hand, it is now time to build some models.  Here, you should build a number of different regression models with the price as the target.  In building your models, you should explore different parameters and be sure to cross-validate your findings."
   ]
  },
  {
   "cell_type": "markdown",
   "metadata": {},
   "source": [
    "Lets start creating the model, we can start with simple regresison model"
   ]
  },
  {
   "cell_type": "code",
   "execution_count": 123,
   "metadata": {},
   "outputs": [],
   "source": [
    "cars_X = cars2.drop(['price',], axis = 1)\n",
    "cars_y = cars2['price']\n",
    "cars_X_train, cars_X_test, cars_y_train, cars_y_test = train_test_split(cars_X,  cars_y, \n",
    "                                                                       test_size = 0.3,\n",
    "                                                                       random_state = 42)"
   ]
  },
  {
   "cell_type": "code",
   "execution_count": 127,
   "metadata": {},
   "outputs": [
    {
     "data": {
      "text/plain": [
       "0    33590\n",
       "1    22590\n",
       "2    39590\n",
       "3    30990\n",
       "4    15000\n",
       "Name: price, dtype: int64"
      ]
     },
     "execution_count": 127,
     "metadata": {},
     "output_type": "execute_result"
    }
   ],
   "source": [
    "cars_y.head()"
   ]
  },
  {
   "cell_type": "code",
   "execution_count": 126,
   "metadata": {},
   "outputs": [
    {
     "data": {
      "text/html": [
       "<div>\n",
       "<style scoped>\n",
       "    .dataframe tbody tr th:only-of-type {\n",
       "        vertical-align: middle;\n",
       "    }\n",
       "\n",
       "    .dataframe tbody tr th {\n",
       "        vertical-align: top;\n",
       "    }\n",
       "\n",
       "    .dataframe thead th {\n",
       "        text-align: right;\n",
       "    }\n",
       "</style>\n",
       "<table border=\"1\" class=\"dataframe\">\n",
       "  <thead>\n",
       "    <tr style=\"text-align: right;\">\n",
       "      <th></th>\n",
       "      <th>region</th>\n",
       "      <th>price</th>\n",
       "      <th>year</th>\n",
       "      <th>manufacturer</th>\n",
       "      <th>model</th>\n",
       "      <th>odometer</th>\n",
       "      <th>type</th>\n",
       "      <th>state</th>\n",
       "      <th>fuel_diesel</th>\n",
       "      <th>fuel_electric</th>\n",
       "      <th>...</th>\n",
       "      <th>condition_salvage</th>\n",
       "      <th>transmission_automatic</th>\n",
       "      <th>transmission_manual</th>\n",
       "      <th>transmission_other</th>\n",
       "      <th>title_status_clean</th>\n",
       "      <th>title_status_lien</th>\n",
       "      <th>title_status_missing</th>\n",
       "      <th>title_status_parts only</th>\n",
       "      <th>title_status_rebuilt</th>\n",
       "      <th>title_status_salvage</th>\n",
       "    </tr>\n",
       "  </thead>\n",
       "  <tbody>\n",
       "    <tr>\n",
       "      <th>region</th>\n",
       "      <td>1.000000</td>\n",
       "      <td>-0.001215</td>\n",
       "      <td>-0.004480</td>\n",
       "      <td>0.001667</td>\n",
       "      <td>-0.001615</td>\n",
       "      <td>-0.001744</td>\n",
       "      <td>0.003162</td>\n",
       "      <td>-0.037019</td>\n",
       "      <td>-0.006110</td>\n",
       "      <td>-0.001099</td>\n",
       "      <td>...</td>\n",
       "      <td>-0.001586</td>\n",
       "      <td>0.013584</td>\n",
       "      <td>0.002032</td>\n",
       "      <td>-0.016577</td>\n",
       "      <td>-0.001511</td>\n",
       "      <td>0.000990</td>\n",
       "      <td>0.012495</td>\n",
       "      <td>0.002374</td>\n",
       "      <td>-0.002703</td>\n",
       "      <td>-0.011598</td>\n",
       "    </tr>\n",
       "    <tr>\n",
       "      <th>price</th>\n",
       "      <td>-0.001215</td>\n",
       "      <td>1.000000</td>\n",
       "      <td>-0.004767</td>\n",
       "      <td>0.004043</td>\n",
       "      <td>-0.000668</td>\n",
       "      <td>0.000872</td>\n",
       "      <td>0.000602</td>\n",
       "      <td>0.000822</td>\n",
       "      <td>0.001548</td>\n",
       "      <td>-0.000209</td>\n",
       "      <td>...</td>\n",
       "      <td>-0.000192</td>\n",
       "      <td>0.000272</td>\n",
       "      <td>0.001583</td>\n",
       "      <td>-0.001301</td>\n",
       "      <td>0.000977</td>\n",
       "      <td>-0.000209</td>\n",
       "      <td>-0.000595</td>\n",
       "      <td>-0.000099</td>\n",
       "      <td>-0.000560</td>\n",
       "      <td>-0.000451</td>\n",
       "    </tr>\n",
       "    <tr>\n",
       "      <th>year</th>\n",
       "      <td>-0.004480</td>\n",
       "      <td>-0.004767</td>\n",
       "      <td>1.000000</td>\n",
       "      <td>0.027078</td>\n",
       "      <td>0.037772</td>\n",
       "      <td>-0.176040</td>\n",
       "      <td>0.004644</td>\n",
       "      <td>0.013266</td>\n",
       "      <td>0.000469</td>\n",
       "      <td>0.032888</td>\n",
       "      <td>...</td>\n",
       "      <td>-0.041188</td>\n",
       "      <td>-0.067494</td>\n",
       "      <td>-0.261583</td>\n",
       "      <td>0.240359</td>\n",
       "      <td>0.007149</td>\n",
       "      <td>0.007542</td>\n",
       "      <td>-0.009725</td>\n",
       "      <td>-0.034873</td>\n",
       "      <td>0.012584</td>\n",
       "      <td>-0.017324</td>\n",
       "    </tr>\n",
       "    <tr>\n",
       "      <th>manufacturer</th>\n",
       "      <td>0.001667</td>\n",
       "      <td>0.004043</td>\n",
       "      <td>0.027078</td>\n",
       "      <td>1.000000</td>\n",
       "      <td>-0.011993</td>\n",
       "      <td>0.000621</td>\n",
       "      <td>0.040088</td>\n",
       "      <td>-0.013314</td>\n",
       "      <td>-0.002181</td>\n",
       "      <td>0.048810</td>\n",
       "      <td>...</td>\n",
       "      <td>0.005727</td>\n",
       "      <td>-0.015820</td>\n",
       "      <td>0.048615</td>\n",
       "      <td>-0.012723</td>\n",
       "      <td>-0.015310</td>\n",
       "      <td>0.000689</td>\n",
       "      <td>0.005377</td>\n",
       "      <td>-0.002657</td>\n",
       "      <td>0.012989</td>\n",
       "      <td>0.009290</td>\n",
       "    </tr>\n",
       "    <tr>\n",
       "      <th>model</th>\n",
       "      <td>-0.001615</td>\n",
       "      <td>-0.000668</td>\n",
       "      <td>0.037772</td>\n",
       "      <td>-0.011993</td>\n",
       "      <td>1.000000</td>\n",
       "      <td>-0.004126</td>\n",
       "      <td>-0.096141</td>\n",
       "      <td>0.004671</td>\n",
       "      <td>-0.048219</td>\n",
       "      <td>0.015151</td>\n",
       "      <td>...</td>\n",
       "      <td>-0.004627</td>\n",
       "      <td>-0.021824</td>\n",
       "      <td>-0.006869</td>\n",
       "      <td>0.028897</td>\n",
       "      <td>0.011793</td>\n",
       "      <td>0.002299</td>\n",
       "      <td>-0.002948</td>\n",
       "      <td>-0.001384</td>\n",
       "      <td>-0.008736</td>\n",
       "      <td>-0.011615</td>\n",
       "    </tr>\n",
       "    <tr>\n",
       "      <th>odometer</th>\n",
       "      <td>-0.001744</td>\n",
       "      <td>0.000872</td>\n",
       "      <td>-0.176040</td>\n",
       "      <td>0.000621</td>\n",
       "      <td>-0.004126</td>\n",
       "      <td>1.000000</td>\n",
       "      <td>0.008620</td>\n",
       "      <td>-0.001986</td>\n",
       "      <td>0.037894</td>\n",
       "      <td>-0.018911</td>\n",
       "      <td>...</td>\n",
       "      <td>0.024810</td>\n",
       "      <td>0.102716</td>\n",
       "      <td>0.033024</td>\n",
       "      <td>-0.136440</td>\n",
       "      <td>-0.004911</td>\n",
       "      <td>-0.000546</td>\n",
       "      <td>0.001010</td>\n",
       "      <td>0.024376</td>\n",
       "      <td>-0.003681</td>\n",
       "      <td>0.010234</td>\n",
       "    </tr>\n",
       "    <tr>\n",
       "      <th>type</th>\n",
       "      <td>0.003162</td>\n",
       "      <td>0.000602</td>\n",
       "      <td>0.004644</td>\n",
       "      <td>0.040088</td>\n",
       "      <td>-0.096141</td>\n",
       "      <td>0.008620</td>\n",
       "      <td>1.000000</td>\n",
       "      <td>-0.005551</td>\n",
       "      <td>0.142041</td>\n",
       "      <td>0.003143</td>\n",
       "      <td>...</td>\n",
       "      <td>0.000914</td>\n",
       "      <td>-0.007723</td>\n",
       "      <td>-0.018116</td>\n",
       "      <td>0.020080</td>\n",
       "      <td>0.006930</td>\n",
       "      <td>-0.003328</td>\n",
       "      <td>-0.010747</td>\n",
       "      <td>0.000123</td>\n",
       "      <td>0.001077</td>\n",
       "      <td>0.000055</td>\n",
       "    </tr>\n",
       "    <tr>\n",
       "      <th>state</th>\n",
       "      <td>-0.037019</td>\n",
       "      <td>0.000822</td>\n",
       "      <td>0.013266</td>\n",
       "      <td>-0.013314</td>\n",
       "      <td>0.004671</td>\n",
       "      <td>-0.001986</td>\n",
       "      <td>-0.005551</td>\n",
       "      <td>1.000000</td>\n",
       "      <td>0.034158</td>\n",
       "      <td>-0.011424</td>\n",
       "      <td>...</td>\n",
       "      <td>-0.003588</td>\n",
       "      <td>0.009106</td>\n",
       "      <td>-0.001211</td>\n",
       "      <td>-0.009496</td>\n",
       "      <td>0.002601</td>\n",
       "      <td>0.005397</td>\n",
       "      <td>-0.014253</td>\n",
       "      <td>-0.001905</td>\n",
       "      <td>0.014237</td>\n",
       "      <td>-0.008097</td>\n",
       "    </tr>\n",
       "    <tr>\n",
       "      <th>fuel_diesel</th>\n",
       "      <td>-0.006110</td>\n",
       "      <td>0.001548</td>\n",
       "      <td>0.000469</td>\n",
       "      <td>-0.002181</td>\n",
       "      <td>-0.048219</td>\n",
       "      <td>0.037894</td>\n",
       "      <td>0.142041</td>\n",
       "      <td>0.034158</td>\n",
       "      <td>1.000000</td>\n",
       "      <td>-0.016570</td>\n",
       "      <td>...</td>\n",
       "      <td>-0.003379</td>\n",
       "      <td>0.065239</td>\n",
       "      <td>0.004869</td>\n",
       "      <td>-0.076541</td>\n",
       "      <td>0.014056</td>\n",
       "      <td>0.013028</td>\n",
       "      <td>-0.007115</td>\n",
       "      <td>-0.000452</td>\n",
       "      <td>-0.014602</td>\n",
       "      <td>-0.009495</td>\n",
       "    </tr>\n",
       "    <tr>\n",
       "      <th>fuel_electric</th>\n",
       "      <td>-0.001099</td>\n",
       "      <td>-0.000209</td>\n",
       "      <td>0.032888</td>\n",
       "      <td>0.048810</td>\n",
       "      <td>0.015151</td>\n",
       "      <td>-0.018911</td>\n",
       "      <td>0.003143</td>\n",
       "      <td>-0.011424</td>\n",
       "      <td>-0.016570</td>\n",
       "      <td>1.000000</td>\n",
       "      <td>...</td>\n",
       "      <td>-0.001234</td>\n",
       "      <td>-0.047622</td>\n",
       "      <td>-0.013482</td>\n",
       "      <td>0.062108</td>\n",
       "      <td>0.005379</td>\n",
       "      <td>0.006044</td>\n",
       "      <td>-0.000654</td>\n",
       "      <td>0.003098</td>\n",
       "      <td>-0.007168</td>\n",
       "      <td>-0.005674</td>\n",
       "    </tr>\n",
       "    <tr>\n",
       "      <th>fuel_gas</th>\n",
       "      <td>0.014513</td>\n",
       "      <td>-0.000969</td>\n",
       "      <td>-0.109677</td>\n",
       "      <td>0.001138</td>\n",
       "      <td>-0.000433</td>\n",
       "      <td>0.022782</td>\n",
       "      <td>-0.107435</td>\n",
       "      <td>-0.008642</td>\n",
       "      <td>-0.615553</td>\n",
       "      <td>-0.149440</td>\n",
       "      <td>...</td>\n",
       "      <td>0.008470</td>\n",
       "      <td>0.160192</td>\n",
       "      <td>0.043260</td>\n",
       "      <td>-0.207608</td>\n",
       "      <td>-0.046211</td>\n",
       "      <td>0.001015</td>\n",
       "      <td>0.026184</td>\n",
       "      <td>0.001152</td>\n",
       "      <td>0.036772</td>\n",
       "      <td>0.016163</td>\n",
       "    </tr>\n",
       "    <tr>\n",
       "      <th>fuel_hybrid</th>\n",
       "      <td>0.001899</td>\n",
       "      <td>-0.000485</td>\n",
       "      <td>0.027353</td>\n",
       "      <td>0.074969</td>\n",
       "      <td>0.020041</td>\n",
       "      <td>-0.004028</td>\n",
       "      <td>0.007372</td>\n",
       "      <td>-0.017030</td>\n",
       "      <td>-0.029704</td>\n",
       "      <td>-0.007211</td>\n",
       "      <td>...</td>\n",
       "      <td>0.001357</td>\n",
       "      <td>-0.002335</td>\n",
       "      <td>-0.014645</td>\n",
       "      <td>0.011831</td>\n",
       "      <td>0.000102</td>\n",
       "      <td>0.000846</td>\n",
       "      <td>0.002174</td>\n",
       "      <td>-0.002122</td>\n",
       "      <td>-0.002438</td>\n",
       "      <td>-0.000062</td>\n",
       "    </tr>\n",
       "    <tr>\n",
       "      <th>fuel_other</th>\n",
       "      <td>-0.014969</td>\n",
       "      <td>0.000146</td>\n",
       "      <td>0.132256</td>\n",
       "      <td>-0.044010</td>\n",
       "      <td>0.033822</td>\n",
       "      <td>-0.061188</td>\n",
       "      <td>0.011120</td>\n",
       "      <td>-0.010108</td>\n",
       "      <td>-0.072758</td>\n",
       "      <td>-0.017664</td>\n",
       "      <td>...</td>\n",
       "      <td>-0.008877</td>\n",
       "      <td>-0.271991</td>\n",
       "      <td>-0.055149</td>\n",
       "      <td>0.341001</td>\n",
       "      <td>0.049643</td>\n",
       "      <td>-0.015584</td>\n",
       "      <td>-0.030488</td>\n",
       "      <td>-0.001011</td>\n",
       "      <td>-0.034541</td>\n",
       "      <td>-0.012092</td>\n",
       "    </tr>\n",
       "    <tr>\n",
       "      <th>condition_excellent</th>\n",
       "      <td>0.025102</td>\n",
       "      <td>-0.000473</td>\n",
       "      <td>-0.084324</td>\n",
       "      <td>0.019735</td>\n",
       "      <td>0.000094</td>\n",
       "      <td>0.028136</td>\n",
       "      <td>-0.055880</td>\n",
       "      <td>-0.037767</td>\n",
       "      <td>-0.022510</td>\n",
       "      <td>-0.018332</td>\n",
       "      <td>...</td>\n",
       "      <td>-0.020598</td>\n",
       "      <td>0.173308</td>\n",
       "      <td>0.025089</td>\n",
       "      <td>-0.210966</td>\n",
       "      <td>-0.134893</td>\n",
       "      <td>0.024676</td>\n",
       "      <td>0.159611</td>\n",
       "      <td>-0.005735</td>\n",
       "      <td>0.049422</td>\n",
       "      <td>-0.002405</td>\n",
       "    </tr>\n",
       "    <tr>\n",
       "      <th>condition_fair</th>\n",
       "      <td>-0.017830</td>\n",
       "      <td>0.002365</td>\n",
       "      <td>0.025042</td>\n",
       "      <td>0.003901</td>\n",
       "      <td>-0.025028</td>\n",
       "      <td>0.025519</td>\n",
       "      <td>0.026957</td>\n",
       "      <td>0.028020</td>\n",
       "      <td>0.090567</td>\n",
       "      <td>-0.013623</td>\n",
       "      <td>...</td>\n",
       "      <td>-0.030880</td>\n",
       "      <td>0.276233</td>\n",
       "      <td>-0.004326</td>\n",
       "      <td>-0.308413</td>\n",
       "      <td>0.064802</td>\n",
       "      <td>-0.036936</td>\n",
       "      <td>-0.054072</td>\n",
       "      <td>0.000474</td>\n",
       "      <td>-0.033729</td>\n",
       "      <td>-0.001477</td>\n",
       "    </tr>\n",
       "    <tr>\n",
       "      <th>condition_good</th>\n",
       "      <td>-0.011795</td>\n",
       "      <td>-0.001832</td>\n",
       "      <td>0.049834</td>\n",
       "      <td>-0.022644</td>\n",
       "      <td>0.028979</td>\n",
       "      <td>-0.052613</td>\n",
       "      <td>0.028263</td>\n",
       "      <td>0.002340</td>\n",
       "      <td>-0.070333</td>\n",
       "      <td>0.030767</td>\n",
       "      <td>...</td>\n",
       "      <td>-0.023458</td>\n",
       "      <td>-0.502288</td>\n",
       "      <td>-0.026512</td>\n",
       "      <td>0.582402</td>\n",
       "      <td>0.072232</td>\n",
       "      <td>-0.002716</td>\n",
       "      <td>-0.076903</td>\n",
       "      <td>-0.004792</td>\n",
       "      <td>-0.028829</td>\n",
       "      <td>-0.012377</td>\n",
       "    </tr>\n",
       "    <tr>\n",
       "      <th>condition_like new</th>\n",
       "      <td>0.016498</td>\n",
       "      <td>-0.000523</td>\n",
       "      <td>0.008394</td>\n",
       "      <td>-0.002699</td>\n",
       "      <td>-0.003122</td>\n",
       "      <td>-0.003883</td>\n",
       "      <td>-0.009370</td>\n",
       "      <td>0.005066</td>\n",
       "      <td>-0.012496</td>\n",
       "      <td>0.002554</td>\n",
       "      <td>...</td>\n",
       "      <td>-0.008445</td>\n",
       "      <td>0.078360</td>\n",
       "      <td>0.010693</td>\n",
       "      <td>-0.094977</td>\n",
       "      <td>-0.015086</td>\n",
       "      <td>0.036960</td>\n",
       "      <td>-0.031098</td>\n",
       "      <td>-0.001826</td>\n",
       "      <td>0.037331</td>\n",
       "      <td>0.004889</td>\n",
       "    </tr>\n",
       "    <tr>\n",
       "      <th>condition_new</th>\n",
       "      <td>-0.002455</td>\n",
       "      <td>-0.000181</td>\n",
       "      <td>0.013510</td>\n",
       "      <td>0.005844</td>\n",
       "      <td>-0.000226</td>\n",
       "      <td>-0.014341</td>\n",
       "      <td>-0.004408</td>\n",
       "      <td>0.005314</td>\n",
       "      <td>-0.004232</td>\n",
       "      <td>0.001124</td>\n",
       "      <td>...</td>\n",
       "      <td>-0.001955</td>\n",
       "      <td>0.012939</td>\n",
       "      <td>0.010303</td>\n",
       "      <td>-0.021046</td>\n",
       "      <td>-0.004102</td>\n",
       "      <td>0.015042</td>\n",
       "      <td>-0.005533</td>\n",
       "      <td>0.004091</td>\n",
       "      <td>0.003881</td>\n",
       "      <td>0.001854</td>\n",
       "    </tr>\n",
       "    <tr>\n",
       "      <th>condition_salvage</th>\n",
       "      <td>-0.001586</td>\n",
       "      <td>-0.000192</td>\n",
       "      <td>-0.041188</td>\n",
       "      <td>0.005727</td>\n",
       "      <td>-0.004627</td>\n",
       "      <td>0.024810</td>\n",
       "      <td>0.000914</td>\n",
       "      <td>-0.003588</td>\n",
       "      <td>-0.003379</td>\n",
       "      <td>-0.001234</td>\n",
       "      <td>...</td>\n",
       "      <td>1.000000</td>\n",
       "      <td>0.002369</td>\n",
       "      <td>0.015477</td>\n",
       "      <td>-0.012392</td>\n",
       "      <td>-0.098302</td>\n",
       "      <td>0.000275</td>\n",
       "      <td>0.013448</td>\n",
       "      <td>0.124905</td>\n",
       "      <td>0.006270</td>\n",
       "      <td>0.169489</td>\n",
       "    </tr>\n",
       "    <tr>\n",
       "      <th>transmission_automatic</th>\n",
       "      <td>0.013584</td>\n",
       "      <td>0.000272</td>\n",
       "      <td>-0.067494</td>\n",
       "      <td>-0.015820</td>\n",
       "      <td>-0.021824</td>\n",
       "      <td>0.102716</td>\n",
       "      <td>-0.007723</td>\n",
       "      <td>0.009106</td>\n",
       "      <td>0.065239</td>\n",
       "      <td>-0.047622</td>\n",
       "      <td>...</td>\n",
       "      <td>0.002369</td>\n",
       "      <td>1.000000</td>\n",
       "      <td>-0.468706</td>\n",
       "      <td>-0.831876</td>\n",
       "      <td>-0.054398</td>\n",
       "      <td>0.013783</td>\n",
       "      <td>0.024133</td>\n",
       "      <td>-0.004277</td>\n",
       "      <td>0.044364</td>\n",
       "      <td>0.020486</td>\n",
       "    </tr>\n",
       "    <tr>\n",
       "      <th>transmission_manual</th>\n",
       "      <td>0.002032</td>\n",
       "      <td>0.001583</td>\n",
       "      <td>-0.261583</td>\n",
       "      <td>0.048615</td>\n",
       "      <td>-0.006869</td>\n",
       "      <td>0.033024</td>\n",
       "      <td>-0.018116</td>\n",
       "      <td>-0.001211</td>\n",
       "      <td>0.004869</td>\n",
       "      <td>-0.013482</td>\n",
       "      <td>...</td>\n",
       "      <td>0.015477</td>\n",
       "      <td>-0.468706</td>\n",
       "      <td>1.000000</td>\n",
       "      <td>-0.100322</td>\n",
       "      <td>-0.014990</td>\n",
       "      <td>0.012349</td>\n",
       "      <td>0.001426</td>\n",
       "      <td>0.012391</td>\n",
       "      <td>0.006447</td>\n",
       "      <td>0.013081</td>\n",
       "    </tr>\n",
       "    <tr>\n",
       "      <th>transmission_other</th>\n",
       "      <td>-0.016577</td>\n",
       "      <td>-0.001301</td>\n",
       "      <td>0.240359</td>\n",
       "      <td>-0.012723</td>\n",
       "      <td>0.028897</td>\n",
       "      <td>-0.136440</td>\n",
       "      <td>0.020080</td>\n",
       "      <td>-0.009496</td>\n",
       "      <td>-0.076541</td>\n",
       "      <td>0.062108</td>\n",
       "      <td>...</td>\n",
       "      <td>-0.012392</td>\n",
       "      <td>-0.831876</td>\n",
       "      <td>-0.100322</td>\n",
       "      <td>1.000000</td>\n",
       "      <td>0.070688</td>\n",
       "      <td>-0.023282</td>\n",
       "      <td>-0.028078</td>\n",
       "      <td>-0.002967</td>\n",
       "      <td>-0.054019</td>\n",
       "      <td>-0.031292</td>\n",
       "    </tr>\n",
       "    <tr>\n",
       "      <th>title_status_clean</th>\n",
       "      <td>-0.001511</td>\n",
       "      <td>0.000977</td>\n",
       "      <td>0.007149</td>\n",
       "      <td>-0.015310</td>\n",
       "      <td>0.011793</td>\n",
       "      <td>-0.004911</td>\n",
       "      <td>0.006930</td>\n",
       "      <td>0.002601</td>\n",
       "      <td>0.014056</td>\n",
       "      <td>0.005379</td>\n",
       "      <td>...</td>\n",
       "      <td>-0.098302</td>\n",
       "      <td>-0.054398</td>\n",
       "      <td>-0.014990</td>\n",
       "      <td>0.070688</td>\n",
       "      <td>1.000000</td>\n",
       "      <td>-0.256130</td>\n",
       "      <td>-0.606664</td>\n",
       "      <td>-0.082724</td>\n",
       "      <td>-0.586772</td>\n",
       "      <td>-0.425857</td>\n",
       "    </tr>\n",
       "    <tr>\n",
       "      <th>title_status_lien</th>\n",
       "      <td>0.000990</td>\n",
       "      <td>-0.000209</td>\n",
       "      <td>0.007542</td>\n",
       "      <td>0.000689</td>\n",
       "      <td>0.002299</td>\n",
       "      <td>-0.000546</td>\n",
       "      <td>-0.003328</td>\n",
       "      <td>0.005397</td>\n",
       "      <td>0.013028</td>\n",
       "      <td>0.006044</td>\n",
       "      <td>...</td>\n",
       "      <td>0.000275</td>\n",
       "      <td>0.013783</td>\n",
       "      <td>0.012349</td>\n",
       "      <td>-0.023282</td>\n",
       "      <td>-0.256130</td>\n",
       "      <td>1.000000</td>\n",
       "      <td>-0.007909</td>\n",
       "      <td>-0.001078</td>\n",
       "      <td>-0.007650</td>\n",
       "      <td>-0.005552</td>\n",
       "    </tr>\n",
       "    <tr>\n",
       "      <th>title_status_missing</th>\n",
       "      <td>0.012495</td>\n",
       "      <td>-0.000595</td>\n",
       "      <td>-0.009725</td>\n",
       "      <td>0.005377</td>\n",
       "      <td>-0.002948</td>\n",
       "      <td>0.001010</td>\n",
       "      <td>-0.010747</td>\n",
       "      <td>-0.014253</td>\n",
       "      <td>-0.007115</td>\n",
       "      <td>-0.000654</td>\n",
       "      <td>...</td>\n",
       "      <td>0.013448</td>\n",
       "      <td>0.024133</td>\n",
       "      <td>0.001426</td>\n",
       "      <td>-0.028078</td>\n",
       "      <td>-0.606664</td>\n",
       "      <td>-0.007909</td>\n",
       "      <td>1.000000</td>\n",
       "      <td>-0.002554</td>\n",
       "      <td>-0.018119</td>\n",
       "      <td>-0.013150</td>\n",
       "    </tr>\n",
       "    <tr>\n",
       "      <th>title_status_parts only</th>\n",
       "      <td>0.002374</td>\n",
       "      <td>-0.000099</td>\n",
       "      <td>-0.034873</td>\n",
       "      <td>-0.002657</td>\n",
       "      <td>-0.001384</td>\n",
       "      <td>0.024376</td>\n",
       "      <td>0.000123</td>\n",
       "      <td>-0.001905</td>\n",
       "      <td>-0.000452</td>\n",
       "      <td>0.003098</td>\n",
       "      <td>...</td>\n",
       "      <td>0.124905</td>\n",
       "      <td>-0.004277</td>\n",
       "      <td>0.012391</td>\n",
       "      <td>-0.002967</td>\n",
       "      <td>-0.082724</td>\n",
       "      <td>-0.001078</td>\n",
       "      <td>-0.002554</td>\n",
       "      <td>1.000000</td>\n",
       "      <td>-0.002471</td>\n",
       "      <td>-0.001793</td>\n",
       "    </tr>\n",
       "    <tr>\n",
       "      <th>title_status_rebuilt</th>\n",
       "      <td>-0.002703</td>\n",
       "      <td>-0.000560</td>\n",
       "      <td>0.012584</td>\n",
       "      <td>0.012989</td>\n",
       "      <td>-0.008736</td>\n",
       "      <td>-0.003681</td>\n",
       "      <td>0.001077</td>\n",
       "      <td>0.014237</td>\n",
       "      <td>-0.014602</td>\n",
       "      <td>-0.007168</td>\n",
       "      <td>...</td>\n",
       "      <td>0.006270</td>\n",
       "      <td>0.044364</td>\n",
       "      <td>0.006447</td>\n",
       "      <td>-0.054019</td>\n",
       "      <td>-0.586772</td>\n",
       "      <td>-0.007650</td>\n",
       "      <td>-0.018119</td>\n",
       "      <td>-0.002471</td>\n",
       "      <td>1.000000</td>\n",
       "      <td>-0.012719</td>\n",
       "    </tr>\n",
       "    <tr>\n",
       "      <th>title_status_salvage</th>\n",
       "      <td>-0.011598</td>\n",
       "      <td>-0.000451</td>\n",
       "      <td>-0.017324</td>\n",
       "      <td>0.009290</td>\n",
       "      <td>-0.011615</td>\n",
       "      <td>0.010234</td>\n",
       "      <td>0.000055</td>\n",
       "      <td>-0.008097</td>\n",
       "      <td>-0.009495</td>\n",
       "      <td>-0.005674</td>\n",
       "      <td>...</td>\n",
       "      <td>0.169489</td>\n",
       "      <td>0.020486</td>\n",
       "      <td>0.013081</td>\n",
       "      <td>-0.031292</td>\n",
       "      <td>-0.425857</td>\n",
       "      <td>-0.005552</td>\n",
       "      <td>-0.013150</td>\n",
       "      <td>-0.001793</td>\n",
       "      <td>-0.012719</td>\n",
       "      <td>1.000000</td>\n",
       "    </tr>\n",
       "  </tbody>\n",
       "</table>\n",
       "<p>28 rows × 28 columns</p>\n",
       "</div>"
      ],
      "text/plain": [
       "                           region     price      year  manufacturer     model  \\\n",
       "region                   1.000000 -0.001215 -0.004480      0.001667 -0.001615   \n",
       "price                   -0.001215  1.000000 -0.004767      0.004043 -0.000668   \n",
       "year                    -0.004480 -0.004767  1.000000      0.027078  0.037772   \n",
       "manufacturer             0.001667  0.004043  0.027078      1.000000 -0.011993   \n",
       "model                   -0.001615 -0.000668  0.037772     -0.011993  1.000000   \n",
       "odometer                -0.001744  0.000872 -0.176040      0.000621 -0.004126   \n",
       "type                     0.003162  0.000602  0.004644      0.040088 -0.096141   \n",
       "state                   -0.037019  0.000822  0.013266     -0.013314  0.004671   \n",
       "fuel_diesel             -0.006110  0.001548  0.000469     -0.002181 -0.048219   \n",
       "fuel_electric           -0.001099 -0.000209  0.032888      0.048810  0.015151   \n",
       "fuel_gas                 0.014513 -0.000969 -0.109677      0.001138 -0.000433   \n",
       "fuel_hybrid              0.001899 -0.000485  0.027353      0.074969  0.020041   \n",
       "fuel_other              -0.014969  0.000146  0.132256     -0.044010  0.033822   \n",
       "condition_excellent      0.025102 -0.000473 -0.084324      0.019735  0.000094   \n",
       "condition_fair          -0.017830  0.002365  0.025042      0.003901 -0.025028   \n",
       "condition_good          -0.011795 -0.001832  0.049834     -0.022644  0.028979   \n",
       "condition_like new       0.016498 -0.000523  0.008394     -0.002699 -0.003122   \n",
       "condition_new           -0.002455 -0.000181  0.013510      0.005844 -0.000226   \n",
       "condition_salvage       -0.001586 -0.000192 -0.041188      0.005727 -0.004627   \n",
       "transmission_automatic   0.013584  0.000272 -0.067494     -0.015820 -0.021824   \n",
       "transmission_manual      0.002032  0.001583 -0.261583      0.048615 -0.006869   \n",
       "transmission_other      -0.016577 -0.001301  0.240359     -0.012723  0.028897   \n",
       "title_status_clean      -0.001511  0.000977  0.007149     -0.015310  0.011793   \n",
       "title_status_lien        0.000990 -0.000209  0.007542      0.000689  0.002299   \n",
       "title_status_missing     0.012495 -0.000595 -0.009725      0.005377 -0.002948   \n",
       "title_status_parts only  0.002374 -0.000099 -0.034873     -0.002657 -0.001384   \n",
       "title_status_rebuilt    -0.002703 -0.000560  0.012584      0.012989 -0.008736   \n",
       "title_status_salvage    -0.011598 -0.000451 -0.017324      0.009290 -0.011615   \n",
       "\n",
       "                         odometer      type     state  fuel_diesel  \\\n",
       "region                  -0.001744  0.003162 -0.037019    -0.006110   \n",
       "price                    0.000872  0.000602  0.000822     0.001548   \n",
       "year                    -0.176040  0.004644  0.013266     0.000469   \n",
       "manufacturer             0.000621  0.040088 -0.013314    -0.002181   \n",
       "model                   -0.004126 -0.096141  0.004671    -0.048219   \n",
       "odometer                 1.000000  0.008620 -0.001986     0.037894   \n",
       "type                     0.008620  1.000000 -0.005551     0.142041   \n",
       "state                   -0.001986 -0.005551  1.000000     0.034158   \n",
       "fuel_diesel              0.037894  0.142041  0.034158     1.000000   \n",
       "fuel_electric           -0.018911  0.003143 -0.011424    -0.016570   \n",
       "fuel_gas                 0.022782 -0.107435 -0.008642    -0.615553   \n",
       "fuel_hybrid             -0.004028  0.007372 -0.017030    -0.029704   \n",
       "fuel_other              -0.061188  0.011120 -0.010108    -0.072758   \n",
       "condition_excellent      0.028136 -0.055880 -0.037767    -0.022510   \n",
       "condition_fair           0.025519  0.026957  0.028020     0.090567   \n",
       "condition_good          -0.052613  0.028263  0.002340    -0.070333   \n",
       "condition_like new      -0.003883 -0.009370  0.005066    -0.012496   \n",
       "condition_new           -0.014341 -0.004408  0.005314    -0.004232   \n",
       "condition_salvage        0.024810  0.000914 -0.003588    -0.003379   \n",
       "transmission_automatic   0.102716 -0.007723  0.009106     0.065239   \n",
       "transmission_manual      0.033024 -0.018116 -0.001211     0.004869   \n",
       "transmission_other      -0.136440  0.020080 -0.009496    -0.076541   \n",
       "title_status_clean      -0.004911  0.006930  0.002601     0.014056   \n",
       "title_status_lien       -0.000546 -0.003328  0.005397     0.013028   \n",
       "title_status_missing     0.001010 -0.010747 -0.014253    -0.007115   \n",
       "title_status_parts only  0.024376  0.000123 -0.001905    -0.000452   \n",
       "title_status_rebuilt    -0.003681  0.001077  0.014237    -0.014602   \n",
       "title_status_salvage     0.010234  0.000055 -0.008097    -0.009495   \n",
       "\n",
       "                         fuel_electric  ...  condition_salvage  \\\n",
       "region                       -0.001099  ...          -0.001586   \n",
       "price                        -0.000209  ...          -0.000192   \n",
       "year                          0.032888  ...          -0.041188   \n",
       "manufacturer                  0.048810  ...           0.005727   \n",
       "model                         0.015151  ...          -0.004627   \n",
       "odometer                     -0.018911  ...           0.024810   \n",
       "type                          0.003143  ...           0.000914   \n",
       "state                        -0.011424  ...          -0.003588   \n",
       "fuel_diesel                  -0.016570  ...          -0.003379   \n",
       "fuel_electric                 1.000000  ...          -0.001234   \n",
       "fuel_gas                     -0.149440  ...           0.008470   \n",
       "fuel_hybrid                  -0.007211  ...           0.001357   \n",
       "fuel_other                   -0.017664  ...          -0.008877   \n",
       "condition_excellent          -0.018332  ...          -0.020598   \n",
       "condition_fair               -0.013623  ...          -0.030880   \n",
       "condition_good                0.030767  ...          -0.023458   \n",
       "condition_like new            0.002554  ...          -0.008445   \n",
       "condition_new                 0.001124  ...          -0.001955   \n",
       "condition_salvage            -0.001234  ...           1.000000   \n",
       "transmission_automatic       -0.047622  ...           0.002369   \n",
       "transmission_manual          -0.013482  ...           0.015477   \n",
       "transmission_other            0.062108  ...          -0.012392   \n",
       "title_status_clean            0.005379  ...          -0.098302   \n",
       "title_status_lien             0.006044  ...           0.000275   \n",
       "title_status_missing         -0.000654  ...           0.013448   \n",
       "title_status_parts only       0.003098  ...           0.124905   \n",
       "title_status_rebuilt         -0.007168  ...           0.006270   \n",
       "title_status_salvage         -0.005674  ...           0.169489   \n",
       "\n",
       "                         transmission_automatic  transmission_manual  \\\n",
       "region                                 0.013584             0.002032   \n",
       "price                                  0.000272             0.001583   \n",
       "year                                  -0.067494            -0.261583   \n",
       "manufacturer                          -0.015820             0.048615   \n",
       "model                                 -0.021824            -0.006869   \n",
       "odometer                               0.102716             0.033024   \n",
       "type                                  -0.007723            -0.018116   \n",
       "state                                  0.009106            -0.001211   \n",
       "fuel_diesel                            0.065239             0.004869   \n",
       "fuel_electric                         -0.047622            -0.013482   \n",
       "fuel_gas                               0.160192             0.043260   \n",
       "fuel_hybrid                           -0.002335            -0.014645   \n",
       "fuel_other                            -0.271991            -0.055149   \n",
       "condition_excellent                    0.173308             0.025089   \n",
       "condition_fair                         0.276233            -0.004326   \n",
       "condition_good                        -0.502288            -0.026512   \n",
       "condition_like new                     0.078360             0.010693   \n",
       "condition_new                          0.012939             0.010303   \n",
       "condition_salvage                      0.002369             0.015477   \n",
       "transmission_automatic                 1.000000            -0.468706   \n",
       "transmission_manual                   -0.468706             1.000000   \n",
       "transmission_other                    -0.831876            -0.100322   \n",
       "title_status_clean                    -0.054398            -0.014990   \n",
       "title_status_lien                      0.013783             0.012349   \n",
       "title_status_missing                   0.024133             0.001426   \n",
       "title_status_parts only               -0.004277             0.012391   \n",
       "title_status_rebuilt                   0.044364             0.006447   \n",
       "title_status_salvage                   0.020486             0.013081   \n",
       "\n",
       "                         transmission_other  title_status_clean  \\\n",
       "region                            -0.016577           -0.001511   \n",
       "price                             -0.001301            0.000977   \n",
       "year                               0.240359            0.007149   \n",
       "manufacturer                      -0.012723           -0.015310   \n",
       "model                              0.028897            0.011793   \n",
       "odometer                          -0.136440           -0.004911   \n",
       "type                               0.020080            0.006930   \n",
       "state                             -0.009496            0.002601   \n",
       "fuel_diesel                       -0.076541            0.014056   \n",
       "fuel_electric                      0.062108            0.005379   \n",
       "fuel_gas                          -0.207608           -0.046211   \n",
       "fuel_hybrid                        0.011831            0.000102   \n",
       "fuel_other                         0.341001            0.049643   \n",
       "condition_excellent               -0.210966           -0.134893   \n",
       "condition_fair                    -0.308413            0.064802   \n",
       "condition_good                     0.582402            0.072232   \n",
       "condition_like new                -0.094977           -0.015086   \n",
       "condition_new                     -0.021046           -0.004102   \n",
       "condition_salvage                 -0.012392           -0.098302   \n",
       "transmission_automatic            -0.831876           -0.054398   \n",
       "transmission_manual               -0.100322           -0.014990   \n",
       "transmission_other                 1.000000            0.070688   \n",
       "title_status_clean                 0.070688            1.000000   \n",
       "title_status_lien                 -0.023282           -0.256130   \n",
       "title_status_missing              -0.028078           -0.606664   \n",
       "title_status_parts only           -0.002967           -0.082724   \n",
       "title_status_rebuilt              -0.054019           -0.586772   \n",
       "title_status_salvage              -0.031292           -0.425857   \n",
       "\n",
       "                         title_status_lien  title_status_missing  \\\n",
       "region                            0.000990              0.012495   \n",
       "price                            -0.000209             -0.000595   \n",
       "year                              0.007542             -0.009725   \n",
       "manufacturer                      0.000689              0.005377   \n",
       "model                             0.002299             -0.002948   \n",
       "odometer                         -0.000546              0.001010   \n",
       "type                             -0.003328             -0.010747   \n",
       "state                             0.005397             -0.014253   \n",
       "fuel_diesel                       0.013028             -0.007115   \n",
       "fuel_electric                     0.006044             -0.000654   \n",
       "fuel_gas                          0.001015              0.026184   \n",
       "fuel_hybrid                       0.000846              0.002174   \n",
       "fuel_other                       -0.015584             -0.030488   \n",
       "condition_excellent               0.024676              0.159611   \n",
       "condition_fair                   -0.036936             -0.054072   \n",
       "condition_good                   -0.002716             -0.076903   \n",
       "condition_like new                0.036960             -0.031098   \n",
       "condition_new                     0.015042             -0.005533   \n",
       "condition_salvage                 0.000275              0.013448   \n",
       "transmission_automatic            0.013783              0.024133   \n",
       "transmission_manual               0.012349              0.001426   \n",
       "transmission_other               -0.023282             -0.028078   \n",
       "title_status_clean               -0.256130             -0.606664   \n",
       "title_status_lien                 1.000000             -0.007909   \n",
       "title_status_missing             -0.007909              1.000000   \n",
       "title_status_parts only          -0.001078             -0.002554   \n",
       "title_status_rebuilt             -0.007650             -0.018119   \n",
       "title_status_salvage             -0.005552             -0.013150   \n",
       "\n",
       "                         title_status_parts only  title_status_rebuilt  \\\n",
       "region                                  0.002374             -0.002703   \n",
       "price                                  -0.000099             -0.000560   \n",
       "year                                   -0.034873              0.012584   \n",
       "manufacturer                           -0.002657              0.012989   \n",
       "model                                  -0.001384             -0.008736   \n",
       "odometer                                0.024376             -0.003681   \n",
       "type                                    0.000123              0.001077   \n",
       "state                                  -0.001905              0.014237   \n",
       "fuel_diesel                            -0.000452             -0.014602   \n",
       "fuel_electric                           0.003098             -0.007168   \n",
       "fuel_gas                                0.001152              0.036772   \n",
       "fuel_hybrid                            -0.002122             -0.002438   \n",
       "fuel_other                             -0.001011             -0.034541   \n",
       "condition_excellent                    -0.005735              0.049422   \n",
       "condition_fair                          0.000474             -0.033729   \n",
       "condition_good                         -0.004792             -0.028829   \n",
       "condition_like new                     -0.001826              0.037331   \n",
       "condition_new                           0.004091              0.003881   \n",
       "condition_salvage                       0.124905              0.006270   \n",
       "transmission_automatic                 -0.004277              0.044364   \n",
       "transmission_manual                     0.012391              0.006447   \n",
       "transmission_other                     -0.002967             -0.054019   \n",
       "title_status_clean                     -0.082724             -0.586772   \n",
       "title_status_lien                      -0.001078             -0.007650   \n",
       "title_status_missing                   -0.002554             -0.018119   \n",
       "title_status_parts only                 1.000000             -0.002471   \n",
       "title_status_rebuilt                   -0.002471              1.000000   \n",
       "title_status_salvage                   -0.001793             -0.012719   \n",
       "\n",
       "                         title_status_salvage  \n",
       "region                              -0.011598  \n",
       "price                               -0.000451  \n",
       "year                                -0.017324  \n",
       "manufacturer                         0.009290  \n",
       "model                               -0.011615  \n",
       "odometer                             0.010234  \n",
       "type                                 0.000055  \n",
       "state                               -0.008097  \n",
       "fuel_diesel                         -0.009495  \n",
       "fuel_electric                       -0.005674  \n",
       "fuel_gas                             0.016163  \n",
       "fuel_hybrid                         -0.000062  \n",
       "fuel_other                          -0.012092  \n",
       "condition_excellent                 -0.002405  \n",
       "condition_fair                      -0.001477  \n",
       "condition_good                      -0.012377  \n",
       "condition_like new                   0.004889  \n",
       "condition_new                        0.001854  \n",
       "condition_salvage                    0.169489  \n",
       "transmission_automatic               0.020486  \n",
       "transmission_manual                  0.013081  \n",
       "transmission_other                  -0.031292  \n",
       "title_status_clean                  -0.425857  \n",
       "title_status_lien                   -0.005552  \n",
       "title_status_missing                -0.013150  \n",
       "title_status_parts only             -0.001793  \n",
       "title_status_rebuilt                -0.012719  \n",
       "title_status_salvage                 1.000000  \n",
       "\n",
       "[28 rows x 28 columns]"
      ]
     },
     "execution_count": 126,
     "metadata": {},
     "output_type": "execute_result"
    }
   ],
   "source": [
    "cars2.corr()"
   ]
  },
  {
   "cell_type": "markdown",
   "metadata": {},
   "source": [
    "Starting with simple LinearRegression"
   ]
  },
  {
   "cell_type": "code",
   "execution_count": 128,
   "metadata": {},
   "outputs": [
    {
     "name": "stdout",
     "output_type": "stream",
     "text": [
      "128838567499012.34\n"
     ]
    }
   ],
   "source": [
    "f2 = LinearRegression(fit_intercept = True)\n",
    "f2.fit(cars_X, cars_y)\n",
    "linreg_mse = mean_squared_error(f2.predict(cars_X), cars_y)\n",
    "print(linreg_mse)"
   ]
  },
  {
   "cell_type": "code",
   "execution_count": 135,
   "metadata": {},
   "outputs": [
    {
     "name": "stdout",
     "output_type": "stream",
     "text": [
      "128816850524365.6\n"
     ]
    }
   ],
   "source": [
    "ols_pipe = Pipeline([('poly_features', PolynomialFeatures(degree = 2, include_bias= False)), \n",
    "                     ('linreg', LinearRegression())])\n",
    "ols_pipe.fit(cars_X, cars_y)\n",
    "ols_preds = ols_pipe.predict(cars_X)\n",
    "\n",
    "ols_pipe_mse = mean_squared_error(ols_pipe.predict(cars_X), cars_y)\n",
    "print(ols_pipe_mse)"
   ]
  },
  {
   "cell_type": "markdown",
   "metadata": {},
   "source": [
    "scale the features and see if that make any difference "
   ]
  },
  {
   "cell_type": "code",
   "execution_count": 140,
   "metadata": {},
   "outputs": [
    {
     "data": {
      "text/plain": [
       "128838567499012.36"
      ]
     },
     "execution_count": 140,
     "metadata": {},
     "output_type": "execute_result"
    }
   ],
   "source": [
    "scaled_pipe = Pipeline([('scaler', StandardScaler()), ('ridge', Ridge())]).fit(cars_X, cars_y)\n",
    "\n",
    "scaled_pipe_mse = mean_squared_error(scaled_pipe.predict(cars_X), cars_y)\n",
    "\n",
    "scaled_pipe_mse"
   ]
  },
  {
   "cell_type": "markdown",
   "metadata": {},
   "source": [
    "another model using SequentialFeatureSelector"
   ]
  },
  {
   "cell_type": "code",
   "execution_count": 142,
   "metadata": {},
   "outputs": [
    {
     "data": {
      "text/plain": [
       "128844960283696.28"
      ]
     },
     "execution_count": 142,
     "metadata": {},
     "output_type": "execute_result"
    }
   ],
   "source": [
    "selector_pipe = Pipeline([\n",
    "    ('selector', SequentialFeatureSelector(LinearRegression() , n_features_to_select=6)),\n",
    "    ('model', LinearRegression())\n",
    "])\n",
    "selector_pipe.fit(cars_X, cars_y)\n",
    "\n",
    "selector_pipe_mse = mean_squared_error(selector_pipe.predict(cars_X), cars_y)\n",
    "\n",
    "selector_pipe_mse"
   ]
  },
  {
   "cell_type": "markdown",
   "metadata": {},
   "source": [
    "I see that 'odometer', 'year', 'manufacturer', 'model' features has highest correlation with price, so I am creating model using these features. "
   ]
  },
  {
   "cell_type": "code",
   "execution_count": 143,
   "metadata": {},
   "outputs": [],
   "source": [
    "features2 = cars2[['odometer', 'year', 'manufacturer', 'model']]\n",
    "price = cars2['price']\n",
    "#generate train/test data for auto\n",
    "cars_X_train, cars_X_test, cars_y_train, cars_y_test = train_test_split(features2, price, \n",
    "                                                                       test_size = 0.3,\n",
    "                                                                       random_state = 42)"
   ]
  },
  {
   "cell_type": "code",
   "execution_count": 144,
   "metadata": {},
   "outputs": [
    {
     "name": "stdout",
     "output_type": "stream",
     "text": [
      "Train MSE:  90702831666655.23\n",
      "Test MSE:  217831643710667.81\n"
     ]
    }
   ],
   "source": [
    "lr = LinearRegression().fit(cars_X_train, cars_y_train)\n",
    "model_1_train_mse = mean_squared_error(cars_y_train, lr.predict(cars_X_train))\n",
    "model_1_test_mse = mean_squared_error(cars_y_test, lr.predict(cars_X_test))\n",
    "print(f'Train MSE: {model_1_train_mse: .2f}')\n",
    "print(f'Test MSE: {model_1_test_mse: .2f}')"
   ]
  },
  {
   "cell_type": "markdown",
   "metadata": {},
   "source": [
    "Another model but using Ridge"
   ]
  },
  {
   "cell_type": "code",
   "execution_count": 67,
   "metadata": {},
   "outputs": [],
   "source": [
    "#generate train/test data for auto\n",
    "cars_X_train, cars_X_test, cars_y_train, cars_y_test = train_test_split(cars2, cars2['price'], \n",
    "                                                                       test_size = 0.3,\n",
    "                                                                       random_state = 42)"
   ]
  },
  {
   "cell_type": "code",
   "execution_count": 69,
   "metadata": {},
   "outputs": [
    {
     "data": {
      "text/plain": [
       "(396334, 28)"
      ]
     },
     "execution_count": 69,
     "metadata": {},
     "output_type": "execute_result"
    }
   ],
   "source": [
    "cars2.shape"
   ]
  },
  {
   "cell_type": "code",
   "execution_count": 70,
   "metadata": {},
   "outputs": [
    {
     "data": {
      "text/plain": [
       "(396334,)"
      ]
     },
     "execution_count": 70,
     "metadata": {},
     "output_type": "execute_result"
    }
   ],
   "source": [
    "cars2['price'].shape"
   ]
  },
  {
   "cell_type": "code",
   "execution_count": 145,
   "metadata": {},
   "outputs": [
    {
     "name": "stdout",
     "output_type": "stream",
     "text": [
      "The Ridge training MSE is: 90702831666655.17\n",
      "The Ridge testing MSE is: 217831643710986.66\n"
     ]
    }
   ],
   "source": [
    "ridge = Ridge(alpha = 1)\n",
    "ridge.fit(cars_X_train, cars_y_train)\n",
    "ridge_train_mse = mean_squared_error(cars_y_train, ridge.predict(cars_X_train))\n",
    "ridge_test_mse = mean_squared_error(cars_y_test, ridge.predict(cars_X_test))\n",
    "print(f'The Ridge training MSE is: {ridge_train_mse}')\n",
    "print(f'The Ridge testing MSE is: {ridge_test_mse}')"
   ]
  },
  {
   "cell_type": "markdown",
   "metadata": {},
   "source": [
    "lastly GridSearchCV with Ridge."
   ]
  },
  {
   "cell_type": "code",
   "execution_count": 147,
   "metadata": {},
   "outputs": [
    {
     "name": "stdout",
     "output_type": "stream",
     "text": [
      "Train MSE: 90702831666655.23\n",
      "Test MSE: 217831643713855.9\n",
      "Best Params: {'alpha': 10.0}\n"
     ]
    }
   ],
   "source": [
    "params_dict = {'alpha': [0.1, 1.0, 10.0]}\n",
    "\n",
    "ridge = Ridge()\n",
    "grid = GridSearchCV(ridge, param_grid=params_dict)\n",
    "grid.fit(cars_X_train, cars_y_train)\n",
    "train_preds = grid.predict(cars_X_train)\n",
    "test_preds = grid.predict(cars_X_test)\n",
    "train_mse = mean_squared_error(cars_y_train, train_preds)\n",
    "test_mse = mean_squared_error(cars_y_test, test_preds)\n",
    "print(f'Train MSE: {train_mse}')\n",
    "print(f'Test MSE: {test_mse}')\n",
    "print(f'Best Params: {grid.best_params_}')\n"
   ]
  },
  {
   "cell_type": "markdown",
   "metadata": {},
   "source": [
    "### Evaluation\n",
    "\n",
    "With some modeling accomplished, we aim to reflect on what we identify as a high quality model and what we are able to learn from this.  We should review our business objective and explore how well we can provide meaningful insight on drivers of used car prices.  Your goal now is to distill your findings and determine whether the earlier phases need revisitation and adjustment or if you have information of value to bring back to your client."
   ]
  },
  {
   "cell_type": "markdown",
   "metadata": {},
   "source": [
    "I tried multiple ways to create model, used GridSearchCV with Ridge, used SequentialFeatureSelector, I also used PolynomialFeatures for feature selection. Based on correlation i see that 'odometer', 'year', 'manufacturer', 'model' had the most impact on price, I can see the impact of these features from the model created using these features."
   ]
  },
  {
   "cell_type": "markdown",
   "metadata": {},
   "source": [
    "### Deployment\n",
    "\n",
    "Now that we've settled on our models and findings, it is time to deliver the information to the client.  You should organize your work as a basic report that details your primary findings.  Keep in mind that your audience is a group of used car dealers interested in fine tuning their inventory."
   ]
  },
  {
   "cell_type": "markdown",
   "metadata": {},
   "source": [
    "Summary for Dealers:\n",
    "\n",
    "\n",
    "odometer, year, manufacturer and model are 4 main features, which have the most impact on the price of used cars. \n",
    "Less milage on odometer, newer cars give high value. Also there are certain model and manufacturer has high price then others.\n"
   ]
  }
 ],
 "metadata": {
  "kernelspec": {
   "display_name": "Python 3.9.12 ('env-01')",
   "language": "python",
   "name": "python3"
  },
  "language_info": {
   "codemirror_mode": {
    "name": "ipython",
    "version": 3
   },
   "file_extension": ".py",
   "mimetype": "text/x-python",
   "name": "python",
   "nbconvert_exporter": "python",
   "pygments_lexer": "ipython3",
   "version": "3.9.12"
  },
  "vscode": {
   "interpreter": {
    "hash": "6a487ef7c1eeda49811e05da3466b5d926106299834fc7adc0255b217c6bdeba"
   }
  },
  "widgets": {
   "application/vnd.jupyter.widget-state+json": {
    "state": {},
    "version_major": 2,
    "version_minor": 0
   }
  }
 },
 "nbformat": 4,
 "nbformat_minor": 4
}
